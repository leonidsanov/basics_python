{
 "cells": [
  {
   "cell_type": "markdown",
   "metadata": {},
   "source": [
    "# Лекция 5. Итераторы и генераторы\n",
    "На этой лекции мы:\n",
    "1. Разберем решения задач в одну строку\n",
    "2. Изучим итераторы и особенности их работы\n",
    "3. Узнаем о генераторных выражениях и генераторах списков, словарей, множеств\n",
    "4. Разберем создание собственных функций генераторов.\n",
    "\n",
    "### Краткая выжимка, о чём говорилось в предыдущей лекции\n",
    "На прошлой лекции мы:\n",
    "1. Разобрались с созданием собственных функций в Python\n",
    "2. Изучили работу встроенных функций “из коробки”\n",
    "\n",
    "### Термины лекции\n",
    "* Итератор — это объект, представляющий поток данных; объект возвращает данные по одному элементу за раз. Итератор Python должен поддерживать метод с именем `__next__()`, который не принимает аргументов и всегда возвращает следующий элемент потока.\n",
    "* Генератор — это объект, который сразу при создании не вычисляет значения всех своих элементов. Он хранит в памяти только последний вычисленный элемент, правило перехода к следующему и условие, при котором выполнение прерывается. Вычисление следующего значения происходит лишь при выполнении метода `next()`. Предыдущее значение при этом теряется.\n",
    "* Факториал — функция, определённая на множестве неотрицательных целых чисел. Название происходит от лат. factorialis — действующий, производящий, умножающий; обозначается n!, произносится эн факториал. Факториал натурального числа n определяется как произведение всех натуральных чисел от 1 до n включительно.\n",
    "\n",
    "## Подробный текст лекции\n",
    "## 1. Однострочники\n",
    "Python позволяет разработчикам решать задачи быстрее, чем с использованием других языков. Одна из причин — возможность писать меньше кода для получения результата.\n",
    "### Полезные однострочники\n",
    "Рассмотрим несколько примеров кода в одну строку, которые упрощают жизнь.\n",
    "* Обмен значения переменных\n",
    "Начнём с классического обмена значений переменных:"
   ]
  },
  {
   "cell_type": "code",
   "execution_count": 2,
   "metadata": {},
   "outputs": [
    {
     "name": "stdout",
     "output_type": "stream",
     "text": [
      "a = 73\tb = 42\n"
     ]
    }
   ],
   "source": [
    "a = 42\n",
    "b = 73\n",
    "a, b = b, a\n",
    "print(f'{a = }\\t{b = }')"
   ]
  },
  {
   "cell_type": "markdown",
   "metadata": {},
   "source": [
    "Мы поменяли местами содержимое переменных без создания дополнительных, в одну строку.\n",
    "* Распаковка коллекции\n",
    "\n",
    "Рассмотрим другие варианты упаковки и распаковки значений."
   ]
  },
  {
   "cell_type": "code",
   "execution_count": 2,
   "metadata": {},
   "outputs": [
    {
     "name": "stdout",
     "output_type": "stream",
     "text": [
      "a='1' b='2' c='3'\n"
     ]
    }
   ],
   "source": [
    "a, b, c = input(\"Три символа: \")\n",
    "print(f\"{a=} {b=} {c=}\")"
   ]
  },
  {
   "cell_type": "markdown",
   "metadata": {},
   "source": [
    "Как вы помните функция input возвращает строку str. Указав не одну переменную, а три мы распаковываем строку из 3-х символов в три отдельные переменные."
   ]
  },
  {
   "cell_type": "code",
   "execution_count": 3,
   "metadata": {},
   "outputs": [
    {
     "name": "stdout",
     "output_type": "stream",
     "text": [
      "a='один' b='два' c='три'\n"
     ]
    }
   ],
   "source": [
    "a, b, c = (\"один\", \"два\", \"три\",)\n",
    "print(f'{a=} {b=} {c=}')"
   ]
  },
  {
   "cell_type": "markdown",
   "metadata": {},
   "source": [
    "Аналогичным образом можно распаковать кортеж из трёх элементов в три переменные. Со списком list, множеством set и прочими коллекциями будет работать аналогично."
   ]
  },
  {
   "cell_type": "code",
   "execution_count": 4,
   "metadata": {},
   "outputs": [
    {
     "ename": "ValueError",
     "evalue": "too many values to unpack (expected 3)",
     "output_type": "error",
     "traceback": [
      "\u001b[1;31m---------------------------------------------------------------------------\u001b[0m",
      "\u001b[1;31mValueError\u001b[0m                                Traceback (most recent call last)",
      "\u001b[1;32me:\\repo\\basics_python\\lectures\\lecture_5.ipynb Cell 8\u001b[0m line \u001b[0;36m1\n\u001b[1;32m----> <a href='vscode-notebook-cell:/e%3A/repo/basics_python/lectures/lecture_5.ipynb#X11sZmlsZQ%3D%3D?line=0'>1</a>\u001b[0m a, b, c \u001b[39m=\u001b[39m {\u001b[39m\"\u001b[39m\u001b[39mодин\u001b[39m\u001b[39m\"\u001b[39m, \u001b[39m\"\u001b[39m\u001b[39mдва\u001b[39m\u001b[39m\"\u001b[39m, \u001b[39m\"\u001b[39m\u001b[39mтри\u001b[39m\u001b[39m\"\u001b[39m, \u001b[39m\"\u001b[39m\u001b[39mчетыре\u001b[39m\u001b[39m\"\u001b[39m, \u001b[39m\"\u001b[39m\u001b[39mпять\u001b[39m\u001b[39m\"\u001b[39m}\n\u001b[0;32m      <a href='vscode-notebook-cell:/e%3A/repo/basics_python/lectures/lecture_5.ipynb#X11sZmlsZQ%3D%3D?line=1'>2</a>\u001b[0m \u001b[39mprint\u001b[39m(\u001b[39mf\u001b[39m\u001b[39m'\u001b[39m\u001b[39m{\u001b[39;00ma\u001b[39m=}\u001b[39;00m\u001b[39m \u001b[39m\u001b[39m{\u001b[39;00mb\u001b[39m=}\u001b[39;00m\u001b[39m \u001b[39m\u001b[39m{\u001b[39;00mc\u001b[39m=}\u001b[39;00m\u001b[39m'\u001b[39m) \u001b[39m# ValueError: too many values to unpack (expected 3)\u001b[39;00m\n",
      "\u001b[1;31mValueError\u001b[0m: too many values to unpack (expected 3)"
     ]
    }
   ],
   "source": [
    "a, b, c = {\"один\", \"два\", \"три\", \"четыре\", \"пять\"}\n",
    "print(f'{a=} {b=} {c=}') # ValueError: too many values to unpack (expected 3)"
   ]
  },
  {
   "cell_type": "markdown",
   "metadata": {},
   "source": [
    "Если количество переменных слева от равенства не совпадает с количеством элементов последовательности Python вернёт ошибку.\n",
    "\n",
    "* Распаковка коллекции с упаковкой “лишнего”, упаковка со звёздочкой\n",
    "\n",
    "Для упаковки может применяться символ “звёздочка” перед именем переменной. Такая переменная превратиться в список и соберёт в себя все значения, не поместившиеся в остальные переменные."
   ]
  },
  {
   "cell_type": "code",
   "execution_count": 42,
   "metadata": {},
   "outputs": [
    {
     "name": "stdout",
     "output_type": "stream",
     "text": [
      "a='один' b='два' c='три' d=['четыре', 'пять', 'шесть', 'семь']\n",
      "a='один' b='два' c=['три', 'четыре', 'пять', 'шесть'] d='семь'\n",
      "a='один' b=['два', 'три', 'четыре', 'пять'] c='шесть' d='семь'\n",
      "a=['один', 'два', 'три', 'четыре'] b='пять' c='шесть' d='семь'\n"
     ]
    }
   ],
   "source": [
    "data = [\n",
    "    \"один\",\n",
    "    \"два\",\n",
    "    \"три\",\n",
    "    \"четыре\",\n",
    "    \"пять\",\n",
    "    \"шесть\",\n",
    "    \"семь\",\n",
    "]\n",
    "\n",
    "a, b, c, *d = data\n",
    "print(f\"{a=} {b=} {c=} {d=}\")\n",
    "\n",
    "a, b, *c, d = data\n",
    "print(f\"{a=} {b=} {c=} {d=}\")\n",
    "\n",
    "a, *b, c, d = data\n",
    "print(f\"{a=} {b=} {c=} {d=}\")\n",
    "\n",
    "*a, b, c, d = data\n",
    "print(f\"{a=} {b=} {c=} {d=}\")\n"
   ]
  },
  {
   "cell_type": "markdown",
   "metadata": {},
   "source": [
    "Элементы коллекции попадают в переменные в зависимости от того, какая из переменных отмечена звёздочкой.\n",
    "\n",
    "==Важно! Звёздочкой можно отметить только одну переменную из перечня.==\n",
    "\n",
    "Если нам нужна часть данных в переменных, а упакованный список в дальнейших расчётах не участвует, в качестве переменной используют подчеркивание."
   ]
  },
  {
   "cell_type": "code",
   "execution_count": 6,
   "metadata": {},
   "outputs": [],
   "source": [
    "link = 'https://docs.python.org/3/faq/programming.html#how-can-i-pass-optional-or-keyword-parameters-from-one-function-to-another'\n",
    "prefix, *_, suffix = link.split('/')"
   ]
  },
  {
   "cell_type": "markdown",
   "metadata": {},
   "source": [
    "* Распаковка со звёздочкой\n",
    "\n",
    "Ещё один способ применения звёздочки — распаковка элементов коллекции. Длинный вариант вывода элементов последовательности в одну строку с разделителем табуляцией:"
   ]
  },
  {
   "cell_type": "code",
   "execution_count": 7,
   "metadata": {},
   "outputs": [
    {
     "name": "stdout",
     "output_type": "stream",
     "text": [
      "2\t4\t6\t8\t10\t"
     ]
    }
   ],
   "source": [
    "data = [\n",
    "    2,\n",
    "    4,\n",
    "    6,\n",
    "    8,\n",
    "    10,\n",
    "]\n",
    "for item in data:\n",
    "    print(item, end=\"\\t\")\n"
   ]
  },
  {
   "cell_type": "markdown",
   "metadata": {},
   "source": [
    "И аналогичная операция в одну строку с распаковкой:"
   ]
  },
  {
   "cell_type": "code",
   "execution_count": 8,
   "metadata": {},
   "outputs": [
    {
     "name": "stdout",
     "output_type": "stream",
     "text": [
      "2\t4\t6\t8\t10\n"
     ]
    }
   ],
   "source": [
    "data = [\n",
    "    2,\n",
    "    4,\n",
    "    6,\n",
    "    8,\n",
    "    10,\n",
    "]\n",
    "print(*data, sep=\"\\t\")\n"
   ]
  },
  {
   "cell_type": "markdown",
   "metadata": {},
   "source": [
    "* Множественное присваивание\n",
    "\n",
    "Если несколько переменных должны получить одинаковые значение, можно объединить несколько строк в одну."
   ]
  },
  {
   "cell_type": "code",
   "execution_count": 9,
   "metadata": {},
   "outputs": [
    {
     "name": "stdout",
     "output_type": "stream",
     "text": [
      "a=42 b=0 c=0\n"
     ]
    }
   ],
   "source": [
    "a = b = c = 0\n",
    "a += 42\n",
    "print(f\"{a=} {b=} {c=}\")\n"
   ]
  },
  {
   "cell_type": "markdown",
   "metadata": {},
   "source": [
    "Подобная запись допустима только с неизменяемыми типами данных. В противном случае изменение одной переменной приведёт к изменению и других."
   ]
  },
  {
   "cell_type": "code",
   "execution_count": 10,
   "metadata": {},
   "outputs": [
    {
     "name": "stdout",
     "output_type": "stream",
     "text": [
      "a={1, 2, 3, 42} b={1, 2, 3, 42} c={1, 2, 3, 42}\n"
     ]
    }
   ],
   "source": [
    "a = b = c = {1, 2, 3}\n",
    "a.add(42)\n",
    "print(f'{a=} {b=} {c=}')"
   ]
  },
  {
   "cell_type": "markdown",
   "metadata": {},
   "source": [
    "Другой вариант множественного присваивания похож на обмен переменных местами."
   ]
  },
  {
   "cell_type": "code",
   "execution_count": 11,
   "metadata": {},
   "outputs": [
    {
     "name": "stdout",
     "output_type": "stream",
     "text": [
      "a=1 b=2 c=3\n"
     ]
    }
   ],
   "source": [
    "a, b, c = 1, 2, 3\n",
    "print(f'{a=} {b=} {c=}')"
   ]
  },
  {
   "cell_type": "markdown",
   "metadata": {},
   "source": [
    "Число элементов в левой части должно совпадать с числом элементов справа от равно. А если в левой части указать лишь одну переменную, получим кортеж."
   ]
  },
  {
   "cell_type": "code",
   "execution_count": 12,
   "metadata": {},
   "outputs": [
    {
     "name": "stdout",
     "output_type": "stream",
     "text": [
      "t=(1, 2, 3), <class 'tuple'>\n"
     ]
    }
   ],
   "source": [
    "t = 1, 2, 3\n",
    "print(f'{t=}, {type(t)}')"
   ]
  },
  {
   "cell_type": "markdown",
   "metadata": {},
   "source": [
    "==Важно! Тип объектов может отличаться. Не только целые числа, как в примерах. Строки, любые коллекции. Ошибки это не вызовет. Но для повышения читаемости рекомендуется не смешивать разные типы данных при присваивании одной строкой.==\n",
    "\n",
    "* Множественное сравнение\n",
    "\n",
    "Аналогично присваиванию можно сравнить несколько переменных внутри конструкции if."
   ]
  },
  {
   "cell_type": "code",
   "execution_count": 13,
   "metadata": {},
   "outputs": [
    {
     "name": "stdout",
     "output_type": "stream",
     "text": [
      "Полное совпадение\n"
     ]
    }
   ],
   "source": [
    "a = b = c = 42\n",
    "# if a == b and b == c:\n",
    "if a == b == c:\n",
    "    print(\"Полное совпадение\")\n"
   ]
  },
  {
   "cell_type": "markdown",
   "metadata": {},
   "source": [
    "Запись становится короче, т.к. исключается команда and внутри сравнения. Работает подобная запись не только с проверкой на равенство, но и с другими операциями."
   ]
  },
  {
   "cell_type": "code",
   "execution_count": 14,
   "metadata": {},
   "outputs": [],
   "source": [
    "if a < b < c:\n",
    "    print('b больше a и меньше c')"
   ]
  },
  {
   "cell_type": "markdown",
   "metadata": {},
   "source": [
    "Проверяем, что b больше a и b меньше c.\n",
    "\n",
    "### Плохие однострочники\n",
    "А теперь несколько примеров плохого кода. Да, он будет работать, т.к. Python прощает ошибки. Но читать такой код будет сложно. И есть большая вероятность, что коллеги по проекту не простят подобный код."
   ]
  },
  {
   "cell_type": "code",
   "execution_count": 15,
   "metadata": {},
   "outputs": [
    {
     "name": "stdout",
     "output_type": "stream",
     "text": [
      "Ужасный код\n"
     ]
    }
   ],
   "source": [
    "a = 12; b = 42; c = 73\n",
    "if a < b < c: b = None; print('Ужасный код')"
   ]
  },
  {
   "cell_type": "markdown",
   "metadata": {},
   "source": [
    "Перечислили несколько операций присваивания через точку с запятой в одной строке. Такая запись противоречит PEP-8. Скорее это защита от поломки, если разработчик пришёл из другого языка и привык ставить точку с запятой. Во второй строке не перешли на новую строку с отступами после двоеточия. Так же идёт против PEP-8. Кроме того подобные условия, циклы или функции не смогут содержать более одной вложенной строки. Если конечно не начать добавлять точки с запятой.\n",
    "\n",
    "==Очень важно! Отсутствие перехода на новую строку после двоеточия и запись нескольких строк кода в одну через точку с запятой — плохой стиль программирования. Будьте готовы получить “неудовлетворительно” за подобные антипаттерны во время учёбы и отказ в трудоустройстве во время собеседования!==\n",
    "\n",
    "### Задание\n",
    "Перед вами несколько строк кода. Напишите что по вашему мнению выведет print, не запуская код. У вас 3 минуты."
   ]
  },
  {
   "cell_type": "code",
   "execution_count": 16,
   "metadata": {},
   "outputs": [
    {
     "name": "stdout",
     "output_type": "stream",
     "text": [
      "1 3 6 [8, 9] 10\n"
     ]
    }
   ],
   "source": [
    "data = {10, 9, 8, 1, 6, 3}\n",
    "a, b, c, *d, e = data\n",
    "print(a, b, c, d, e)"
   ]
  },
  {
   "cell_type": "markdown",
   "metadata": {},
   "source": [
    "## 2. Итераторы\n",
    "С итераторами мы уже знакомы. Любая Python коллекция будь то список, словарь, строка и т.п. предоставляют интерфейс итератора. Если коллекцию можно передать в цикл for in для последовательного перебора элементов, значит коллекция итерируемая, поддерживает интерфейс итарации. При этом у каждой коллекции может быть свой интерфейс. Списки, строки, кортежи возвращают элементы слева направо, от нулевого индекса к последнему. Множества возвращают элементы в случайном порядке.\n",
    "\n",
    "==Секрет! На самом деле порядок вывода элементов множества не случаен. Он зависит от результата работы встроенного хэша. Хэш\n",
    "функция определяет в какое место множества будет помещён элемент и возвращает их в порядке возрастания хеша.==\n",
    "\n",
    "Просто этот порядок может не совпадать со значением элементов. Что касается словарей, они поддерживают сразу три интерфейса итерации: по ключам, по значениям и по парам ключ-значение. Вспомните методы keys, values и items.\n",
    "\n",
    "### Функции `iter()` и `next()`\n",
    "В Python объект является итерируемым, если поддерживает работу дандер методов `__iter__` (или `__getitem__`) и `__next__`. Первый метод должен возвращать объект итератор. Второй, next — возвращает очередной элемент коллекции или исключение StopIteration. Рассмотрим подробнее:\n",
    "\n",
    "* Функция `iter`\n",
    "Функция `iter` имеет формат `iter(object[, sentinel])`. `object` является обязательным аргументом. Если объект не реализует интерфейс итерации через методы `__iter__` или `__getitem__`, получим ошибку TypeError"
   ]
  },
  {
   "cell_type": "code",
   "execution_count": 17,
   "metadata": {},
   "outputs": [
    {
     "ename": "TypeError",
     "evalue": "'int' object is not iterable",
     "output_type": "error",
     "traceback": [
      "\u001b[1;31m---------------------------------------------------------------------------\u001b[0m",
      "\u001b[1;31mTypeError\u001b[0m                                 Traceback (most recent call last)",
      "\u001b[1;32me:\\repo\\basics_python\\lectures\\lecture_5.ipynb Cell 34\u001b[0m line \u001b[0;36m2\n\u001b[0;32m      <a href='vscode-notebook-cell:/e%3A/repo/basics_python/lectures/lecture_5.ipynb#X46sZmlsZQ%3D%3D?line=0'>1</a>\u001b[0m a \u001b[39m=\u001b[39m \u001b[39m42\u001b[39m\n\u001b[1;32m----> <a href='vscode-notebook-cell:/e%3A/repo/basics_python/lectures/lecture_5.ipynb#X46sZmlsZQ%3D%3D?line=1'>2</a>\u001b[0m \u001b[39miter\u001b[39;49m(a) \u001b[39m# TypeError: 'int' object is not iterable\u001b[39;00m\n",
      "\u001b[1;31mTypeError\u001b[0m: 'int' object is not iterable"
     ]
    }
   ],
   "source": [
    "a = 42\n",
    "iter(a) # TypeError: 'int' object is not iterable"
   ]
  },
  {
   "cell_type": "markdown",
   "metadata": {},
   "source": [
    "Получим итератор списка"
   ]
  },
  {
   "cell_type": "code",
   "execution_count": 18,
   "metadata": {},
   "outputs": [
    {
     "name": "stdout",
     "output_type": "stream",
     "text": [
      "<list_iterator object at 0x000001F6CC7CB3A0>\n"
     ]
    }
   ],
   "source": [
    "data = [2, 4, 6, 8]\n",
    "list_iter = iter(data)\n",
    "print(list_iter)"
   ]
  },
  {
   "cell_type": "markdown",
   "metadata": {},
   "source": [
    "Напрямую извлечь данные из итератора не получится. Python сообщает, что переменная `list_iter` указывает на `<list_iterator object at 0x0000025383D29400>`, т.е. объект итератор списка. Для кортежа функция `iter` вернёт `tuple_iterator`, для\n",
    "множеств `set_iterator`, а например для `dict.items()` вернётся `dict_itemiterator`. Один из простейших способов получить элементы - распаковать итератор через звёздочку."
   ]
  },
  {
   "cell_type": "code",
   "execution_count": 19,
   "metadata": {},
   "outputs": [
    {
     "name": "stdout",
     "output_type": "stream",
     "text": [
      "2 4 6 8\n",
      "\n"
     ]
    }
   ],
   "source": [
    "data = [2, 4, 6, 8]\n",
    "list_iter = iter(data)\n",
    "print(*list_iter)\n",
    "print(*list_iter)"
   ]
  },
  {
   "cell_type": "markdown",
   "metadata": {},
   "source": [
    "==Внимание! Обратите внимание, что итератор является одноразовым объектом. Получив все элементы коллекции один раз он перестаёт работать. Для повторного извлечения элементов необходимо создать новый итератор.==\n",
    "\n",
    "Второй параметр функции `iter` — `sentinel` передают для вызываемых объектов-итераторов. Параметр указывает в какой момент должна быть завершена итерация, при совпадении возвращаемого значения со значением `sentinel`."
   ]
  },
  {
   "cell_type": "code",
   "execution_count": 20,
   "metadata": {},
   "outputs": [
    {
     "ename": "TypeError",
     "evalue": "iter(v, w): v must be callable",
     "output_type": "error",
     "traceback": [
      "\u001b[1;31m---------------------------------------------------------------------------\u001b[0m",
      "\u001b[1;31mTypeError\u001b[0m                                 Traceback (most recent call last)",
      "\u001b[1;32me:\\repo\\basics_python\\lectures\\lecture_5.ipynb Cell 40\u001b[0m line \u001b[0;36m2\n\u001b[0;32m      <a href='vscode-notebook-cell:/e%3A/repo/basics_python/lectures/lecture_5.ipynb#X55sZmlsZQ%3D%3D?line=0'>1</a>\u001b[0m data \u001b[39m=\u001b[39m [\u001b[39m2\u001b[39m, \u001b[39m4\u001b[39m, \u001b[39m6\u001b[39m, \u001b[39m8\u001b[39m]\n\u001b[1;32m----> <a href='vscode-notebook-cell:/e%3A/repo/basics_python/lectures/lecture_5.ipynb#X55sZmlsZQ%3D%3D?line=1'>2</a>\u001b[0m list_iter \u001b[39m=\u001b[39m \u001b[39miter\u001b[39;49m(data, \u001b[39m6\u001b[39;49m) \u001b[39m# TypeError: iter(v, w): v must be callable\u001b[39;00m\n",
      "\u001b[1;31mTypeError\u001b[0m: iter(v, w): v must be callable"
     ]
    }
   ],
   "source": [
    "data = [2, 4, 6, 8]\n",
    "list_iter = iter(data, 6) # TypeError: iter(v, w): v must be callable"
   ]
  },
  {
   "cell_type": "markdown",
   "metadata": {},
   "source": [
    "Список не является функцией, его нельзя вызвать. Получили ошибку TypeError. Один из вариантов работы функции iter с двумя параметрами — чтение бинарного файла блоками фиксированного размера до тех пор, пока не будет достигнут конец файла."
   ]
  },
  {
   "cell_type": "code",
   "execution_count": 21,
   "metadata": {},
   "outputs": [
    {
     "ename": "FileNotFoundError",
     "evalue": "[Errno 2] No such file or directory: 'mydata.bin'",
     "output_type": "error",
     "traceback": [
      "\u001b[1;31m---------------------------------------------------------------------------\u001b[0m",
      "\u001b[1;31mFileNotFoundError\u001b[0m                         Traceback (most recent call last)",
      "\u001b[1;32me:\\repo\\basics_python\\lectures\\lecture_5.ipynb Cell 42\u001b[0m line \u001b[0;36m3\n\u001b[0;32m      <a href='vscode-notebook-cell:/e%3A/repo/basics_python/lectures/lecture_5.ipynb#X60sZmlsZQ%3D%3D?line=0'>1</a>\u001b[0m \u001b[39mimport\u001b[39;00m \u001b[39mfunctools\u001b[39;00m\n\u001b[1;32m----> <a href='vscode-notebook-cell:/e%3A/repo/basics_python/lectures/lecture_5.ipynb#X60sZmlsZQ%3D%3D?line=2'>3</a>\u001b[0m f \u001b[39m=\u001b[39m \u001b[39mopen\u001b[39;49m(\u001b[39m'\u001b[39;49m\u001b[39mmydata.bin\u001b[39;49m\u001b[39m'\u001b[39;49m, \u001b[39m'\u001b[39;49m\u001b[39mrb\u001b[39;49m\u001b[39m'\u001b[39;49m)\n\u001b[0;32m      <a href='vscode-notebook-cell:/e%3A/repo/basics_python/lectures/lecture_5.ipynb#X60sZmlsZQ%3D%3D?line=3'>4</a>\u001b[0m \u001b[39mfor\u001b[39;00m block \u001b[39min\u001b[39;00m \u001b[39miter\u001b[39m(functools\u001b[39m.\u001b[39mpartial(f\u001b[39m.\u001b[39mread, \u001b[39m16\u001b[39m), \u001b[39mb\u001b[39m\u001b[39m'\u001b[39m\u001b[39m'\u001b[39m):\n\u001b[0;32m      <a href='vscode-notebook-cell:/e%3A/repo/basics_python/lectures/lecture_5.ipynb#X60sZmlsZQ%3D%3D?line=4'>5</a>\u001b[0m     \u001b[39mprint\u001b[39m(block)\n",
      "File \u001b[1;32me:\\repo\\basics_python\\virtenv\\Lib\\site-packages\\IPython\\core\\interactiveshell.py:286\u001b[0m, in \u001b[0;36m_modified_open\u001b[1;34m(file, *args, **kwargs)\u001b[0m\n\u001b[0;32m    279\u001b[0m \u001b[39mif\u001b[39;00m file \u001b[39min\u001b[39;00m {\u001b[39m0\u001b[39m, \u001b[39m1\u001b[39m, \u001b[39m2\u001b[39m}:\n\u001b[0;32m    280\u001b[0m     \u001b[39mraise\u001b[39;00m \u001b[39mValueError\u001b[39;00m(\n\u001b[0;32m    281\u001b[0m         \u001b[39mf\u001b[39m\u001b[39m\"\u001b[39m\u001b[39mIPython won\u001b[39m\u001b[39m'\u001b[39m\u001b[39mt let you open fd=\u001b[39m\u001b[39m{\u001b[39;00mfile\u001b[39m}\u001b[39;00m\u001b[39m by default \u001b[39m\u001b[39m\"\u001b[39m\n\u001b[0;32m    282\u001b[0m         \u001b[39m\"\u001b[39m\u001b[39mas it is likely to crash IPython. If you know what you are doing, \u001b[39m\u001b[39m\"\u001b[39m\n\u001b[0;32m    283\u001b[0m         \u001b[39m\"\u001b[39m\u001b[39myou can use builtins\u001b[39m\u001b[39m'\u001b[39m\u001b[39m open.\u001b[39m\u001b[39m\"\u001b[39m\n\u001b[0;32m    284\u001b[0m     )\n\u001b[1;32m--> 286\u001b[0m \u001b[39mreturn\u001b[39;00m io_open(file, \u001b[39m*\u001b[39;49margs, \u001b[39m*\u001b[39;49m\u001b[39m*\u001b[39;49mkwargs)\n",
      "\u001b[1;31mFileNotFoundError\u001b[0m: [Errno 2] No such file or directory: 'mydata.bin'"
     ]
    }
   ],
   "source": [
    "import functools\n",
    "\n",
    "f = open('mydata.bin', 'rb')\n",
    "for block in iter(functools.partial(f.read, 16), b''):\n",
    "    print(block)\n",
    "f.close()"
   ]
  },
  {
   "cell_type": "markdown",
   "metadata": {},
   "source": [
    "Подробнее работу с файлами разберём на одной из следующих лекций. А сейчас коротко. Открыли бинарный файл на чтение байт. В цикле считываем блоки по 16 байт и выводим их на печать. Чтение прекратиться после считывание пустого байта b’’, окончания файла. После этого выходим из цикла и закрываем файл.\n",
    "\n",
    "* Функция `next`\n",
    "\n",
    "Функция `next` имеет формат `next(iterator[, default])`. На вход функция принимает итератор, который вернула функция `iter`. Каждый вызов функции возвращает очередной элемент итератора."
   ]
  },
  {
   "cell_type": "code",
   "execution_count": 22,
   "metadata": {},
   "outputs": [
    {
     "name": "stdout",
     "output_type": "stream",
     "text": [
      "2\n",
      "4\n",
      "6\n",
      "8\n"
     ]
    },
    {
     "ename": "StopIteration",
     "evalue": "",
     "output_type": "error",
     "traceback": [
      "\u001b[1;31m---------------------------------------------------------------------------\u001b[0m",
      "\u001b[1;31mStopIteration\u001b[0m                             Traceback (most recent call last)",
      "\u001b[1;32me:\\repo\\basics_python\\lectures\\lecture_5.ipynb Cell 44\u001b[0m line \u001b[0;36m7\n\u001b[0;32m      <a href='vscode-notebook-cell:/e%3A/repo/basics_python/lectures/lecture_5.ipynb#X62sZmlsZQ%3D%3D?line=4'>5</a>\u001b[0m \u001b[39mprint\u001b[39m(\u001b[39mnext\u001b[39m(list_iter))\n\u001b[0;32m      <a href='vscode-notebook-cell:/e%3A/repo/basics_python/lectures/lecture_5.ipynb#X62sZmlsZQ%3D%3D?line=5'>6</a>\u001b[0m \u001b[39mprint\u001b[39m(\u001b[39mnext\u001b[39m(list_iter))\n\u001b[1;32m----> <a href='vscode-notebook-cell:/e%3A/repo/basics_python/lectures/lecture_5.ipynb#X62sZmlsZQ%3D%3D?line=6'>7</a>\u001b[0m \u001b[39mprint\u001b[39m(\u001b[39mnext\u001b[39;49m(list_iter)) \u001b[39m# StopIteration\u001b[39;00m\n",
      "\u001b[1;31mStopIteration\u001b[0m: "
     ]
    }
   ],
   "source": [
    "data = [2, 4, 6, 8]\n",
    "list_iter = iter(data)\n",
    "print(next(list_iter))\n",
    "print(next(list_iter))\n",
    "print(next(list_iter))\n",
    "print(next(list_iter))\n",
    "print(next(list_iter)) # StopIteration"
   ]
  },
  {
   "cell_type": "markdown",
   "metadata": {},
   "source": [
    "При завершении элементов выбрасывается исключение `StopIteration`. Данное исключение служит указанием циклу for in о завершении работы. Каждый раз когда происходит перебор коллекции в цикле создаётся исключение. Но цикл обрабатывает его как сигнал для завершения итерации и перехода к следующему блоку кода. Исключение не останавливает программу.\n",
    "\n",
    "Второй параметр функции `next` нужен для возврата значения по умолчанию вместо выброса исключения `StopIteration`"
   ]
  },
  {
   "cell_type": "code",
   "execution_count": 23,
   "metadata": {},
   "outputs": [
    {
     "name": "stdout",
     "output_type": "stream",
     "text": [
      "2\n",
      "4\n",
      "6\n",
      "8\n",
      "42\n",
      "42\n"
     ]
    }
   ],
   "source": [
    "data = [2, 4, 6, 8]\n",
    "list_iter = iter(data)\n",
    "print(next(list_iter, 42))\n",
    "print(next(list_iter, 42))\n",
    "print(next(list_iter, 42))\n",
    "print(next(list_iter, 42))\n",
    "print(next(list_iter, 42))\n",
    "print(next(list_iter, 42))"
   ]
  },
  {
   "cell_type": "markdown",
   "metadata": {},
   "source": [
    "Промежуточный итог. Любая коллекция в Python поддерживает интерфейс итерации, т.е. перебор элементов в цикле for in. Для этого она возвращает итератор, который последовательно возвращает следующий, next элемент. Отдельно управлять итерацией позволяют функции `iter` и `next`. Кроме того при ООП можно создавать свои классы, поддерживающие итерации. Подробнее об этом в рамках соответствующей лекции.\n",
    "\n",
    "### Задание\n",
    "\n",
    "Перед вами несколько строк кода. Напишите что выведет каждая из строк, не запуская код. У вас 3 минуты."
   ]
  },
  {
   "cell_type": "code",
   "execution_count": 24,
   "metadata": {},
   "outputs": [
    {
     "name": "stdout",
     "output_type": "stream",
     "text": [
      "<dict_itemiterator object at 0x000001F6CCE06930>\n",
      "('один', 1)\n",
      "один\n"
     ]
    }
   ],
   "source": [
    "data = {\"один\": 1, \"два\": 2, \"три\": 3}\n",
    "x = iter(data.items())\n",
    "print(x)\n",
    "y = next(x)\n",
    "print(y)\n",
    "z = next(iter(y))\n",
    "print(z)"
   ]
  },
  {
   "cell_type": "markdown",
   "metadata": {},
   "source": [
    "## 3. Генераторы\n",
    "Возвращаемся к однострочникам и рассмотрим генераторы в Python.\n",
    "\n",
    "==Важно! Генератор не обязан быть однострочником.==\n",
    "\n",
    "Генераторы похожи на итераторы тем, что возвращают некую последовательность значений. Отличие в том, что итераторы чаще всего возвращают коллекции. Т.е. коллекция хранит все данные и тратит на хранение память. Далее коллекция возвращает хранимые элементы через интерфейс итерации. Генераторы не хранят данные в памяти, а вычисляют их по мере необходимости, чтобы вернуть очередное значение.\n",
    "\n",
    "С одним из генераторов мы уже знакомы. Это объект, возвращаемый функцией `range`. При создании генератора мы указываем диапазон перебираемых целых чисел, но не сохраняем их в памяти. Каждое из значений генерируется на очередном витке цикла."
   ]
  },
  {
   "cell_type": "code",
   "execution_count": 25,
   "metadata": {},
   "outputs": [
    {
     "name": "stdout",
     "output_type": "stream",
     "text": [
      "a=range(0, 10, 2), type(a)=<class 'range'>, a.__sizeof__()=48, 5\n",
      "b=range(-1000000, 1000000, 2), type(b)=<class 'range'>, b.__sizeof__()=48, 1000000\n"
     ]
    }
   ],
   "source": [
    "a = range(0, 10, 2)\n",
    "print(f'{a=}, {type(a)=}, {a.__sizeof__()=}, {len(a)}')\n",
    "b = range(-1_000_000, 1_000_000, 2)\n",
    "print(f'{b=}, {type(b)=}, {b.__sizeof__()=}, {len(b)}')"
   ]
  },
  {
   "cell_type": "markdown",
   "metadata": {},
   "source": [
    "Генератор `a` на пять значений и генератор `b` на 1 млн. значений занимают одинаковое место в памяти.\n",
    "\n",
    "### Генераторные выражения\n",
    "Генераторные выражения Python позволяют создать собственный генератор, перебирающий значения."
   ]
  },
  {
   "cell_type": "code",
   "execution_count": 26,
   "metadata": {},
   "outputs": [
    {
     "name": "stdout",
     "output_type": "stream",
     "text": [
      "<generator object <genexpr> at 0x000001F6CCDFDC40>\n",
      "a\n",
      "b\n",
      "c\n",
      "d\n",
      "e\n",
      "f\n",
      "g\n",
      "h\n",
      "i\n",
      "j\n",
      "k\n",
      "l\n",
      "m\n",
      "n\n",
      "o\n",
      "p\n",
      "q\n",
      "r\n",
      "s\n",
      "t\n",
      "u\n",
      "v\n",
      "w\n",
      "x\n",
      "y\n",
      "z\n"
     ]
    }
   ],
   "source": [
    "my_gen = (chr(i) for i in range(97, 123))\n",
    "print(my_gen) # <generator object <genexpr> at 0x000001ED58DD7D60>\n",
    "for char in my_gen:\n",
    "    print(char)"
   ]
  },
  {
   "cell_type": "markdown",
   "metadata": {},
   "source": [
    "Для создания генераторного выражения используют круглые скобки, внутри которых прописывается логика выражения. В нашем примере циклический перебор целых чисел от 97 до 122 и возврат символов из таблицы ASCII с соответствующими кодами.\n",
    "### Комбинации for и if в генераторах и выражениях\n",
    "В общем виде генератор можно записать как:\n",
    "```\n",
    "gen = (expression for expr in sequense1 if condition1\n",
    "        for expr in sequense2 if condition2\n",
    "        for expr in sequense3 if condition3\n",
    "        ...\n",
    "        for expr in sequenseN if conditionN)\n",
    "```\n",
    "Если расписать выражение в обычном коде, получим следующий код:\n",
    "```\n",
    "for expr in sequense1:\n",
    "    if not condition1:\n",
    "        continue\n",
    "    for expr in sequense2:\n",
    "        if not condition2:\n",
    "            continue\n",
    "            ...\n",
    "        for expr in sequenseN:\n",
    "            if not conditionN:\n",
    "                continue\n",
    "```\n",
    "Каждый следующий цикл вложен в предыдущий. Логическая проверка определяет добавлять элемент в вывод или опустить его — continue. При этом логические проверки могут отсутствовать для любых циклов в любом порядке. При работе с генераторами стоит помнить, что для каждого витка внешнего цикла внутренний перебирает все элементы от начала до конца. Например:"
   ]
  },
  {
   "cell_type": "code",
   "execution_count": 28,
   "metadata": {},
   "outputs": [
    {
     "name": "stdout",
     "output_type": "stream",
     "text": [
      "len(x)=7\tlen(y)=6\n",
      "len(res)=25\n",
      "[3, 7, 25, 121, 721, 3, 7, 25, 121, 721, 5, 9, 27, 123, 723, 7, 11, 29, 125, 725, 15, 19, 37, 133, 733]\n"
     ]
    }
   ],
   "source": [
    "x = [1, 1, 2, 3, 5, 8, 13]\n",
    "y = [1, 2, 6, 24, 120, 720]\n",
    "print(f'{len(x)=}\\t{len(y)=}')\n",
    "mult = (i + j for i in x if i % 2 != 0 for j in y if j != 1)\n",
    "res = list(mult)\n",
    "print(f'{len(res)=}\\n{res}')"
   ]
  },
  {
   "cell_type": "markdown",
   "metadata": {},
   "source": [
    "Создаём генератор на основе двух списков x и y. 7 элементов в первом списке и 6 во втором. Всего 13. Генератор считает сумму пар элементов. Генератор перебирает все значения списка x и оставляет только нечётные. Исключаем 2 и 8, т.е. оставляем 5 из 7 элементов списка для вычисления суммы. В списке y исключаем единицу, т.е. оставляем 5 из 6 элементов. Новичок может подумать, что на выходе получим 10 элементов - 5 из x и 5 из y. Но циклы вложены друг в друга, следовательно количество элементов на выходе 5х5=25. А асимптотика данного генератора квадратичная, O(NхM), где N и M - длина списков x\n",
    "и y.\n",
    "\n",
    "==Важно! На асимптотическую сложность генератора влияют только количество циклов. Наличие if проверок конечно же замедляет генерацию значений. Но if воспринимается как константа в вычислении асимптотики. 4 вложенных цикла без проверок будут иметь асимптотику 4 степени, а 3 цикла с 3 проверками — асимптотику 3-й степени. Не стоит злоупотреблять количеством вложенных циклов.\n",
    "\n",
    "### Допустимые размеры односточника\n",
    "\n",
    "__PEP-8!__ Ограничение в 80 (120) символов на строку касается и генераторов. Если ваш код выходит за границу, попробуйте его упростить. Если упрощение невозможно, стоит перейти от однострочного генераторного выражения к функции генератору. Их мы рассмотрим далее на уроке. Аналогичные ограничения касаются и рассматриваемых далее генераторов списков, множеств и словарей.\n",
    "\n",
    "### List comprehensions\n",
    "\n",
    "Что будет, если генераторное выражение записать не в круглых скобках, а в квадратных? Получим list comprehensions. Другие названия: *list comp*, *генератор списков*, *списковое включение*. И нет, это не генераторное выражение. Генератор списков полностью формирует список с элементами до его присваивания переменной слева от знака равно."
   ]
  },
  {
   "cell_type": "code",
   "execution_count": 29,
   "metadata": {},
   "outputs": [
    {
     "name": "stdout",
     "output_type": "stream",
     "text": [
      "['a', 'b', 'c', 'd', 'e', 'f', 'g', 'h', 'i', 'j', 'k', 'l', 'm', 'n', 'o', 'p', 'q', 'r', 's', 't', 'u', 'v', 'w', 'x', 'y', 'z']\n",
      "a\n",
      "b\n",
      "c\n",
      "d\n",
      "e\n",
      "f\n",
      "g\n",
      "h\n",
      "i\n",
      "j\n",
      "k\n",
      "l\n",
      "m\n",
      "n\n",
      "o\n",
      "p\n",
      "q\n",
      "r\n",
      "s\n",
      "t\n",
      "u\n",
      "v\n",
      "w\n",
      "x\n",
      "y\n",
      "z\n"
     ]
    }
   ],
   "source": [
    "my_listcomp = [chr(i) for i in range(97, 123)]\n",
    "print(my_listcomp) # ['a', 'b', 'c', 'd', ..., z]\n",
    "for char in my_listcomp:\n",
    "    print(char)"
   ]
  },
  {
   "cell_type": "markdown",
   "metadata": {},
   "source": [
    "Как и генераторные выражения списковые включения поддерживают несколько циклов и логические проверки для каждого из циклов. Можно воспринимать их как синтаксический сахар, более короткую запись. Например выбираем все чётные числа из исходного списка и складываем их в результирующий.\n",
    "\n",
    "Длинный код:"
   ]
  },
  {
   "cell_type": "code",
   "execution_count": 30,
   "metadata": {},
   "outputs": [
    {
     "name": "stdout",
     "output_type": "stream",
     "text": [
      "res = [2, 42, 76, 24]\n"
     ]
    }
   ],
   "source": [
    "data = [2, 5, 1, 42, 65, 76, 24, 77]\n",
    "res = []\n",
    "for item in data:\n",
    "    if item % 2 == 0:\n",
    "        res.append(item)\n",
    "print(f'{res = }')"
   ]
  },
  {
   "cell_type": "markdown",
   "metadata": {},
   "source": [
    "Аналогичное решение, но с использованием синтаксического сахара listcomp:"
   ]
  },
  {
   "cell_type": "code",
   "execution_count": 31,
   "metadata": {},
   "outputs": [
    {
     "name": "stdout",
     "output_type": "stream",
     "text": [
      "res = [2, 42, 76, 24]\n"
     ]
    }
   ],
   "source": [
    "data = [2, 5, 1, 42, 65, 76, 24, 77]\n",
    "res = [item for item in data if item % 2 == 0]\n",
    "print(f'{res = }')"
   ]
  },
  {
   "cell_type": "markdown",
   "metadata": {},
   "source": [
    "1. Не создаём пустой список в начале.\n",
    "2. Не пишем двоеточия после цикла и логической проверки.\n",
    "3. Исключаем метод append.\n",
    "\n",
    "Итого вместо 4 строк кода получаем одну.\n",
    "\n",
    "### Генераторные выражения или генерация списка\n",
    "В примере из раздела “генераторные выражения” мы обернули генератор функцией list, чтобы сохранить значения в список. Можно воспринимать это как антипример кода. Какой же пример является верным? Если на выходе нужен готовый список, оптимальным будет следующий код:"
   ]
  },
  {
   "cell_type": "code",
   "execution_count": 32,
   "metadata": {},
   "outputs": [
    {
     "name": "stdout",
     "output_type": "stream",
     "text": [
      "len(x)=7\tlen(y)=6\n",
      "len(res)=25\n",
      "[3, 7, 25, 121, 721, 3, 7, 25, 121, 721, 5, 9, 27, 123, 723, 7, 11, 29, 125, 725, 15, 19, 37, 133, 733]\n"
     ]
    }
   ],
   "source": [
    "x = [1, 1, 2, 3, 5, 8, 13]\n",
    "y = [1, 2, 6, 24, 120, 720]\n",
    "print(f'{len(x)=}\\t{len(y)=}')\n",
    "res = [i + j for i in x if i % 2 != 0 for j in y if j != 1]\n",
    "print(f'{len(res)=}\\n{res}')"
   ]
  },
  {
   "cell_type": "markdown",
   "metadata": {},
   "source": [
    "А если нам не нужны все элементы разом. Например мы в дальнейшем хотим перебирать значения по одному в цикле. В этом случае подойдет генераторное выражение без преобразования в список."
   ]
  },
  {
   "cell_type": "code",
   "execution_count": 33,
   "metadata": {},
   "outputs": [
    {
     "name": "stdout",
     "output_type": "stream",
     "text": [
      "len(x)=7\tlen(y)=6\n",
      "item = 3\n",
      "item = 7\n",
      "item = 25\n",
      "item = 121\n",
      "item = 721\n",
      "item = 3\n",
      "item = 7\n",
      "item = 25\n",
      "item = 121\n",
      "item = 721\n",
      "item = 5\n",
      "item = 9\n",
      "item = 27\n",
      "item = 123\n",
      "item = 723\n",
      "item = 7\n",
      "item = 11\n",
      "item = 29\n",
      "item = 125\n",
      "item = 725\n",
      "item = 15\n",
      "item = 19\n",
      "item = 37\n",
      "item = 133\n",
      "item = 733\n"
     ]
    }
   ],
   "source": [
    "x = [1, 1, 2, 3, 5, 8, 13]\n",
    "y = [1, 2, 6, 24, 120, 720]\n",
    "print(f'{len(x)=}\\t{len(y)=}')\n",
    "mult = (i + j for i in x if i % 2 != 0 for j in y if j != 1)\n",
    "for item in mult:\n",
    "    print(f'{item = }')"
   ]
  },
  {
   "cell_type": "markdown",
   "metadata": {},
   "source": [
    "==Важно! При написании кода заранее решите нужна вам сгенерированная коллекция целиком или нет. Не стоит тратить память на хранение всех элементов, если вы ими не пользуетесь одновременно.==\n",
    "\n",
    "### Set comprehensions\n",
    "\n",
    "Кроме синтаксического сахара для генерации списков можно создавать множества в одну строку. Синтаксис аналогичен примерам выше. Изменяются лишь скобки. Для множеств используются фигурные."
   ]
  },
  {
   "cell_type": "code",
   "execution_count": 34,
   "metadata": {},
   "outputs": [
    {
     "name": "stdout",
     "output_type": "stream",
     "text": [
      "{'c', 'n', 'q', 'z', 'f', 'g', 'w', 'm', 'e', 'o', 'p', 'k', 'r', 'l', 'u', 'h', 'a', 'y', 'i', 't', 'd', 's', 'b', 'j', 'v', 'x'}\n",
      "c\n",
      "n\n",
      "q\n",
      "z\n",
      "f\n",
      "g\n",
      "w\n",
      "m\n",
      "e\n",
      "o\n",
      "p\n",
      "k\n",
      "r\n",
      "l\n",
      "u\n",
      "h\n",
      "a\n",
      "y\n",
      "i\n",
      "t\n",
      "d\n",
      "s\n",
      "b\n",
      "j\n",
      "v\n",
      "x\n"
     ]
    }
   ],
   "source": [
    "my_setcomp = {chr(i) for i in range(97, 123)}\n",
    "print(my_setcomp) # {'f', 'g', 'b', 'j', 'e',... }\n",
    "for char in my_setcomp:\n",
    "    print(char)"
   ]
  },
  {
   "cell_type": "markdown",
   "metadata": {},
   "source": [
    "Мы также перебираем элементы в цикле. Также можно использовать вложенные циклы. Также для каждого цикла может быть проверка на включение элемента в множество.\n",
    "\n",
    "Стоит обратить внимание на следующие особенности:\n",
    "* порядок элементов внутри множества может не совпадать с порядком добавления элементов.\n",
    "* множество хранит только уникальные значения"
   ]
  },
  {
   "cell_type": "code",
   "execution_count": 35,
   "metadata": {},
   "outputs": [
    {
     "name": "stdout",
     "output_type": "stream",
     "text": [
      "len(x)=7\tlen(y)=6\n",
      "len(res)=19\n",
      "{3, 5, 133, 7, 9, 11, 15, 19, 25, 27, 29, 37, 721, 723, 725, 733, 121, 123, 125}\n"
     ]
    }
   ],
   "source": [
    "x = [1, 1, 2, 3, 5, 8, 13]\n",
    "y = [1, 2, 6, 24, 120, 720]\n",
    "print(f'{len(x)=}\\t{len(y)=}')\n",
    "res = {i + j for i in x if i % 2 != 0 for j in y if j != 1}\n",
    "print(f'{len(res)=}\\n{res}')"
   ]
  },
  {
   "cell_type": "markdown",
   "metadata": {},
   "source": [
    "Как и в примерах выше для генерации множества перебрали все возможные комбинации пар x и y списков. Но в итоге осталось не 25 элементов, а 19 уникальных. 6 дублирующих элементов не были добавлены в множество, но время на их обработку было затрачено. Асимптотика не улучшилась.\n",
    "\n",
    "### Dict comprehensions\n",
    "\n",
    "Ещё один вариант синтаксического сахара — генерация словаря."
   ]
  },
  {
   "cell_type": "code",
   "execution_count": 36,
   "metadata": {},
   "outputs": [
    {
     "name": "stdout",
     "output_type": "stream",
     "text": [
      "{97: 'a', 98: 'b', 99: 'c', 100: 'd', 101: 'e', 102: 'f', 103: 'g', 104: 'h', 105: 'i', 106: 'j', 107: 'k', 108: 'l', 109: 'm', 110: 'n', 111: 'o', 112: 'p', 113: 'q', 114: 'r', 115: 's', 116: 't', 117: 'u', 118: 'v', 119: 'w', 120: 'x', 121: 'y', 122: 'z'}\n",
      "dict[97] = a\n",
      "dict[98] = b\n",
      "dict[99] = c\n",
      "dict[100] = d\n",
      "dict[101] = e\n",
      "dict[102] = f\n",
      "dict[103] = g\n",
      "dict[104] = h\n",
      "dict[105] = i\n",
      "dict[106] = j\n",
      "dict[107] = k\n",
      "dict[108] = l\n",
      "dict[109] = m\n",
      "dict[110] = n\n",
      "dict[111] = o\n",
      "dict[112] = p\n",
      "dict[113] = q\n",
      "dict[114] = r\n",
      "dict[115] = s\n",
      "dict[116] = t\n",
      "dict[117] = u\n",
      "dict[118] = v\n",
      "dict[119] = w\n",
      "dict[120] = x\n",
      "dict[121] = y\n",
      "dict[122] = z\n"
     ]
    }
   ],
   "source": [
    "my_dictcomp = {i: chr(i) for i in range(97, 123)}\n",
    "print(my_dictcomp) # {97: 'a', 98: 'b', 99: 'c',... }\n",
    "for number, char in my_dictcomp.items():\n",
    "    print(f'dict[{number}] = {char}')"
   ]
  },
  {
   "cell_type": "markdown",
   "metadata": {},
   "source": [
    "Запись похожа на создание множества, но в качестве выражения для добавления указываются две переменные через двоеточие: `key: value`. Благодаря такой записи Python понимает, что надо создать словарь.\n",
    "\n",
    "==Важно! Стоит помнить, что ключи словаря должны быть объектами неизменяемого типа.==\n",
    "\n",
    "Во всём остальном для генерации словарей в одну строку действуют те же правила, что и для других типов данных.\n",
    "\n",
    "### Задание\n",
    "\n",
    "Перед вами несколько строк кода. Напишите что по вашему мнению выведет print, не запуская код. У вас 3 минуты."
   ]
  },
  {
   "cell_type": "code",
   "execution_count": 37,
   "metadata": {},
   "outputs": [
    {
     "name": "stdout",
     "output_type": "stream",
     "text": [
      "{None: 12} <generator object <genexpr> at 0x000001F6CCF86190> [[6], [8], [10], [12]]\n"
     ]
    }
   ],
   "source": [
    "data = {2, 4, 4, 6, 8, 10, 12}\n",
    "res1 = {None: item for item in data if item > 4}\n",
    "res2 = (item for item in data if item > 4)\n",
    "res3 = [[item] for item in data if item > 4]\n",
    "print(res1, res2, res3)"
   ]
  },
  {
   "cell_type": "markdown",
   "metadata": {},
   "source": [
    "# 4. Создание функции генератора\n",
    "Рассмотрим создание генератора не в одну строку, а как отдельную функцию.\n",
    "\n",
    "Например нам надо посчитать факториал чисел от одного до n. Прежде чем создавать генератор, создадим обычную функцию, которая вернёт список чисел."
   ]
  },
  {
   "cell_type": "code",
   "execution_count": 38,
   "metadata": {},
   "outputs": [
    {
     "name": "stdout",
     "output_type": "stream",
     "text": [
      "1! = 1\n",
      "2! = 2\n",
      "3! = 6\n",
      "4! = 24\n",
      "5! = 120\n",
      "6! = 720\n",
      "7! = 5040\n",
      "8! = 40320\n",
      "9! = 362880\n",
      "10! = 3628800\n"
     ]
    }
   ],
   "source": [
    "def factorial(n):\n",
    "    number = 1\n",
    "    result = []\n",
    "    for i in range(1, n + 1):\n",
    "        number *= i\n",
    "        result.append(number)\n",
    "    return result\n",
    "\n",
    "\n",
    "for i, num in enumerate(factorial(10), start=1):\n",
    "    print(f'{i}! = {num}')"
   ]
  },
  {
   "cell_type": "markdown",
   "metadata": {},
   "source": [
    "Внутри функции создали переменную для хранения очередного числа и результирующий список. Далее в цикле перебираем числа от одного до n включительно. Число number умножается на очередное число, вычисляется следующий по порядку факториал. Результат помещается в список. По завершении цикла возвращаем список ответов.\n",
    "\n",
    "Получив нужное количество значений в цикле выводим факториалы и их значения. Код отлично работает, но есть но. Мы не используем все факториалы сразу, а последовательно выводим их на печать. Если бы у нас был однострочный listcomp, достаточно было бы поменять квадратные скобки на круглы и получить генераторное выражение. В нашем примере также заменим функцию на генератор.\n",
    "\n",
    "### Команда yield\n",
    "\n",
    "Как вы помните команда `return` возвращает готовый результат работы функции и завершает её работу. Зарезервированное слово `yield` превращает функцию в генератор. Значение после `yield` возвращается из функции. Сама функция запоминает своё состояние: строку, на которой остановилось выполнение, значения локальных переменных. Повторный вызов функции продолжает работу с момента остановки.\n",
    "\n",
    "Изменим функцию для получения факториала чисел, превратив её в генератор."
   ]
  },
  {
   "cell_type": "code",
   "execution_count": 39,
   "metadata": {},
   "outputs": [
    {
     "name": "stdout",
     "output_type": "stream",
     "text": [
      "1! = 1\n",
      "2! = 2\n",
      "3! = 6\n",
      "4! = 24\n",
      "5! = 120\n",
      "6! = 720\n",
      "7! = 5040\n",
      "8! = 40320\n",
      "9! = 362880\n",
      "10! = 3628800\n"
     ]
    }
   ],
   "source": [
    "def factorial(n):\n",
    "    number = 1\n",
    "    for i in range(1, n + 1):\n",
    "        number *= i\n",
    "        yield number\n",
    "\n",
    "\n",
    "for i, num in enumerate(factorial(10), start=1):\n",
    "    print(f'{i}! = {num}')"
   ]
  },
  {
   "cell_type": "markdown",
   "metadata": {},
   "source": [
    "Теперь внутри функции не создаётся пустой список для результатов. В цикле вычисляется факториал очередного числа. Далее команда yield возвращает значение. Следующий вызов вернёт функцию к циклу for для вычисления очередного числа.\n",
    "\n",
    "Как вы помните, если в функции отсутствует команда `return` Python в конце тела функции добавляет `return None`. Явная или неявная, как в нашем примере, команда `return` завершает работу генератора вызовом исключения `StopIteration`.\n",
    "\n",
    "### Функции `iter` и `next` для генераторов\n",
    "\n",
    "Уже знакомые по сегодняшнему уроку функции `iter` и `next` могут работать с созданными генераторами. Например так:"
   ]
  },
  {
   "cell_type": "code",
   "execution_count": 40,
   "metadata": {},
   "outputs": [
    {
     "name": "stdout",
     "output_type": "stream",
     "text": [
      "<generator object factorial at 0x000001F6CCF90D60>\n",
      "1\n",
      "2\n",
      "6\n",
      "24\n"
     ]
    },
    {
     "ename": "StopIteration",
     "evalue": "",
     "output_type": "error",
     "traceback": [
      "\u001b[1;31m---------------------------------------------------------------------------\u001b[0m",
      "\u001b[1;31mStopIteration\u001b[0m                             Traceback (most recent call last)",
      "\u001b[1;32me:\\repo\\basics_python\\lectures\\lecture_5.ipynb Cell 78\u001b[0m line \u001b[0;36m7\n\u001b[0;32m      <a href='vscode-notebook-cell:/e%3A/repo/basics_python/lectures/lecture_5.ipynb#Y144sZmlsZQ%3D%3D?line=4'>5</a>\u001b[0m \u001b[39mprint\u001b[39m(\u001b[39mnext\u001b[39m(my_iter))\n\u001b[0;32m      <a href='vscode-notebook-cell:/e%3A/repo/basics_python/lectures/lecture_5.ipynb#Y144sZmlsZQ%3D%3D?line=5'>6</a>\u001b[0m \u001b[39mprint\u001b[39m(\u001b[39mnext\u001b[39m(my_iter))\n\u001b[1;32m----> <a href='vscode-notebook-cell:/e%3A/repo/basics_python/lectures/lecture_5.ipynb#Y144sZmlsZQ%3D%3D?line=6'>7</a>\u001b[0m \u001b[39mprint\u001b[39m(\u001b[39mnext\u001b[39;49m(my_iter)) \u001b[39m# StopIteration\u001b[39;00m\n",
      "\u001b[1;31mStopIteration\u001b[0m: "
     ]
    }
   ],
   "source": [
    "my_iter = iter(factorial(4))\n",
    "print(my_iter)\n",
    "print(next(my_iter))\n",
    "print(next(my_iter))\n",
    "print(next(my_iter))\n",
    "print(next(my_iter))\n",
    "print(next(my_iter)) # StopIteration"
   ]
  },
  {
   "cell_type": "markdown",
   "metadata": {},
   "source": [
    "### Задание\n",
    "\n",
    "Перед вами несколько строк кода. Напишите что по вашему мнению выведет `print`, не запуская код. У вас 3 минуты."
   ]
  },
  {
   "cell_type": "code",
   "execution_count": 41,
   "metadata": {},
   "outputs": [
    {
     "name": "stdout",
     "output_type": "stream",
     "text": [
      "item = '1'\n",
      "item = '2'\n",
      "item = '3'\n",
      "item = '4'\n",
      "item = '5'\n",
      "item = '6'\n",
      "item = '7'\n",
      "item = '8'\n",
      "item = '9'\n",
      "item = '10'\n"
     ]
    }
   ],
   "source": [
    "def gen(a: int, b: int) -> str:\n",
    "    if a > b:\n",
    "        a, b = b, a\n",
    "    for i in range(a, b + 1):\n",
    "        yield str(i)\n",
    "\n",
    "\n",
    "for item in gen(10, 1):\n",
    "    print(f'{item = }')"
   ]
  },
  {
   "cell_type": "markdown",
   "metadata": {},
   "source": [
    "# Вывод\n",
    "\n",
    "На этой лекции мы:\n",
    "\n",
    "1. Разобрали решения задач в одну строку\n",
    "2. Изучили итераторы и особенности их работы\n",
    "3. Узнали о генераторных выражениях и генераторах списков, словарей, множеств\n",
    "4. Разобрали создание собственных функций генераторов."
   ]
  }
 ],
 "metadata": {
  "kernelspec": {
   "display_name": "virtenv",
   "language": "python",
   "name": "python3"
  },
  "language_info": {
   "codemirror_mode": {
    "name": "ipython",
    "version": 3
   },
   "file_extension": ".py",
   "mimetype": "text/x-python",
   "name": "python",
   "nbconvert_exporter": "python",
   "pygments_lexer": "ipython3",
   "version": "3.11.5"
  }
 },
 "nbformat": 4,
 "nbformat_minor": 2
}
