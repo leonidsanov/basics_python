{
 "cells": [
  {
   "cell_type": "markdown",
   "metadata": {},
   "source": [
    "# Файлы и файловая система\n",
    "### На этой лекции мы\n",
    "1. Разберёмся в особенностях работы с файлами и каталогами в Python \n",
    "2. Изучим функцию `open` для работы с содержимым файла\n",
    "3. Узнаем о возможностях стандартной библиотеки для работы с файлами и каталогами\n",
    "### Дополнительные материалы к лекции\n",
    "[Стандартная библиотека Python. Документация](https://docs.python.org/3/library/index.html)\n",
    "### Краткая выжимка, о чём говорилось в предыдущей лекции"
   ]
  }
 ],
 "metadata": {
  "kernelspec": {
   "display_name": "virtenv",
   "language": "python",
   "name": "python3"
  },
  "language_info": {
   "name": "python",
   "version": "3.11.5"
  }
 },
 "nbformat": 4,
 "nbformat_minor": 2
}
